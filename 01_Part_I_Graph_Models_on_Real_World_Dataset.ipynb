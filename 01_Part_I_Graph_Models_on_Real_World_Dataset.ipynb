{
  "cells": [
    {
      "cell_type": "markdown",
      "metadata": {
        "id": "view-in-github",
        "colab_type": "text"
      },
      "source": [
        "<a href=\"https://colab.research.google.com/github/jzhu1905/HeterophilicGraphLearningTutorial/blob/main/01_Part_I_Graph_Models_on_Real_World_Dataset.ipynb\" target=\"_parent\"><img src=\"https://colab.research.google.com/assets/colab-badge.svg\" alt=\"Open In Colab\"/></a>"
      ]
    },
    {
      "cell_type": "markdown",
      "source": [
        "# Heterophily Benchmark Tutorial: Part I - Graph Models on Real-World Dataset\n",
        "\n",
        "Sitao Luan, MILA \\\\\n",
        "Chenqing Hua, McGill University & MILA \\\\\n",
        "QiCheng Lu, McGill University & MILA \\\\\n",
        "Jiaqi Zhu, DRW\n",
        "\n",
        "\n",
        "##### ***LOG2024: A Tutorial on Heterophilic Graph Learning***"
      ],
      "metadata": {
        "id": "sZc9bsm8WB8A"
      },
      "id": "sZc9bsm8WB8A"
    },
    {
      "cell_type": "markdown",
      "source": [
        "# Environment Setup\n"
      ],
      "metadata": {
        "id": "J_LxW9ktWA-N"
      },
      "id": "J_LxW9ktWA-N"
    },
    {
      "cell_type": "code",
      "execution_count": null,
      "id": "8cbb9ad8-5753-4b31-9a24-282fa9ec549a",
      "metadata": {
        "id": "8cbb9ad8-5753-4b31-9a24-282fa9ec549a"
      },
      "outputs": [],
      "source": [
        "COLLAB_ENV = True"
      ]
    },
    {
      "cell_type": "code",
      "source": [
        "import os\n",
        "import shutil\n",
        "\n",
        "import ipywidgets as widgets\n",
        "from ipywidgets import Box"
      ],
      "metadata": {
        "id": "a3_qZjfTleJ2"
      },
      "id": "a3_qZjfTleJ2",
      "execution_count": null,
      "outputs": []
    },
    {
      "cell_type": "code",
      "execution_count": null,
      "id": "b262ed5a-1859-4f73-aa1a-a132aa00b2d8",
      "metadata": {
        "id": "b262ed5a-1859-4f73-aa1a-a132aa00b2d8",
        "collapsed": true
      },
      "outputs": [],
      "source": [
        "if COLLAB_ENV:\n",
        "    !git clone --recurse-submodules -j8 https://github.com/jzhu1905/HeterophilicGraphLearningTutorial.git\n",
        "    !cd HeterophilicGraphLearning-Tutorial\n",
        "    !git init\n",
        "    !git submodule update --init --recursive\n",
        "    shutil.copytree(\"HeterophilicGraphLearning-Tutorial/\", \"./\", dirs_exist_ok=True)\n",
        "    !rm -rf HeterophilicGraphLearning-Tutorial\n",
        "\n",
        "    !pip install torch==2.2.2\n",
        "    !pip install torchaudio==2.2.2 torchdata==0.7.1 torchvision==0.17.2\n",
        "    !pip install dgl -f https://data.dgl.ai/wheels/torch-2.2/cu121/repo.html\n",
        "    import torch\n",
        "    os.environ['TORCH'] = torch.__version__\n",
        "    print(torch.__version__)\n",
        "    !pip install torch-scatter -f https://data.pyg.org/whl/torch-{torch.__version__}.html\n",
        "    !pip install torch-sparse -f https://data.pyg.org/whl/torch-{torch.__version__}.html\n",
        "    !pip install torch-cluster -f https://data.pyg.org/whl/torch-{torch.__version__}.html\n",
        "    !pip install git+https://github.com/pyg-team/pytorch_geometric.git\n",
        "    !pip install torch-geometric===2.1.0.post1\n",
        "    !pip install networkx==2.5\n",
        "    !pip install ogb"
      ]
    },
    {
      "cell_type": "code",
      "source": [
        "import sys\n",
        "sys.path.append(\"./Heterophilic_Benchmarks\")\n",
        "\n",
        "from constants import GRAPH_MODELS, DATASETS\n",
        "from train_graph_model import train_graph_model\n",
        "\n",
        "IS_GPU_AVAILABLE = torch.cuda.is_available()"
      ],
      "metadata": {
        "id": "Df6EwUDK3otb"
      },
      "id": "Df6EwUDK3otb",
      "execution_count": null,
      "outputs": []
    },
    {
      "cell_type": "markdown",
      "source": [
        "# Trianing Graph Models with Real World Dataset"
      ],
      "metadata": {
        "id": "SkoQh0sxkrD6"
      },
      "id": "SkoQh0sxkrD6"
    },
    {
      "cell_type": "markdown",
      "source": [
        "## 1. Select a GNN model"
      ],
      "metadata": {
        "id": "5JOZ0-0ClD-7"
      },
      "id": "5JOZ0-0ClD-7"
    },
    {
      "cell_type": "code",
      "source": [
        "graph_model = widgets.Dropdown(\n",
        "    options=GRAPH_MODELS.keys(),\n",
        "    default=list(GRAPH_MODELS.keys())[0],\n",
        "    description='Choose a graph model:',\n",
        "    style={'description_width': 'initial'}\n",
        ")\n",
        "display(graph_model)"
      ],
      "metadata": {
        "id": "kvgBqcmkk45b",
        "outputId": "070f0a40-7765-499f-e69e-96d2dd99e174",
        "colab": {
          "base_uri": "https://localhost:8080/",
          "height": 49,
          "referenced_widgets": [
            "50f95f5c1b1d4cc0bf2e36fc2d2fb031",
            "e3378d46eb3b470ebf065cd51a70e568",
            "38e6e01b2bee4ac0ae03809cb42d137d"
          ]
        }
      },
      "id": "kvgBqcmkk45b",
      "execution_count": null,
      "outputs": [
        {
          "output_type": "display_data",
          "data": {
            "text/plain": [
              "Dropdown(description='Choose a graph model:', options=('ACM', 'BernNet', 'FAGCN', 'FSGCN', 'GBKGNN', 'APPNP', …"
            ],
            "application/vnd.jupyter.widget-view+json": {
              "version_major": 2,
              "version_minor": 0,
              "model_id": "50f95f5c1b1d4cc0bf2e36fc2d2fb031"
            }
          },
          "metadata": {}
        }
      ]
    },
    {
      "cell_type": "markdown",
      "source": [
        "## 2. Select a Dataset"
      ],
      "metadata": {
        "id": "hMM-zr2DlJPC"
      },
      "id": "hMM-zr2DlJPC"
    },
    {
      "cell_type": "markdown",
      "source": [
        "### 2.1. First select a dataset class"
      ],
      "metadata": {
        "id": "5kyuU6_pz5V8"
      },
      "id": "5kyuU6_pz5V8"
    },
    {
      "cell_type": "code",
      "source": [
        "dataset_classes = GRAPH_MODELS[graph_model.value]\n",
        "dataset_class = widgets.Dropdown(\n",
        "    options=dataset_classes,\n",
        "    default=dataset_classes[0],\n",
        "    description='Choose a dataset class:',\n",
        "    style={'description_width': 'initial'}\n",
        ")\n",
        "display(dataset_class)"
      ],
      "metadata": {
        "id": "mrR2dmAblCUy",
        "outputId": "178f44b0-1723-474f-fdac-a9bf12f7f096",
        "colab": {
          "base_uri": "https://localhost:8080/",
          "height": 49,
          "referenced_widgets": [
            "b10c56f5db094b69a427528180f270c3",
            "bb2bdd8c8a9d43bf940486a5c016079a",
            "fa01f5ec9855468e8e2033447b6f5500"
          ]
        }
      },
      "id": "mrR2dmAblCUy",
      "execution_count": null,
      "outputs": [
        {
          "output_type": "display_data",
          "data": {
            "text/plain": [
              "Dropdown(description='Choose a dataset class:', options=(('Critical Look', 'critical'), ('Large Scale', 'large…"
            ],
            "application/vnd.jupyter.widget-view+json": {
              "version_major": 2,
              "version_minor": 0,
              "model_id": "b10c56f5db094b69a427528180f270c3"
            }
          },
          "metadata": {}
        }
      ]
    },
    {
      "cell_type": "markdown",
      "source": [
        "### 2.2 Then select a dataset"
      ],
      "metadata": {
        "id": "AH-LHjUC0AtZ"
      },
      "id": "AH-LHjUC0AtZ"
    },
    {
      "cell_type": "code",
      "source": [
        "datasets = DATASETS[dataset_class.value]\n",
        "dataset = widgets.Dropdown(\n",
        "    options=datasets,\n",
        "    default=datasets[0],\n",
        "    description='Choose a dataset:',\n",
        "    style={'description_width': 'initial'}\n",
        ")\n",
        "display(dataset)"
      ],
      "metadata": {
        "id": "YfK1DMPl0ADD",
        "outputId": "12da76ff-40e8-41d8-cbb2-af863eed9569",
        "colab": {
          "base_uri": "https://localhost:8080/",
          "height": 49,
          "referenced_widgets": [
            "9b23686fbf1444df8470e55cbd832386",
            "e5f0f595350a4f5a9d6ecf1d4ce6aab4",
            "e06ed442ba0f419fb0f8dbadd7af51bf"
          ]
        }
      },
      "id": "YfK1DMPl0ADD",
      "execution_count": null,
      "outputs": [
        {
          "output_type": "display_data",
          "data": {
            "text/plain": [
              "Dropdown(description='Choose a dataset:', options=(('Arxiv-Year', 'arxiv-year'), ('Chameleon', 'chameleon'), (…"
            ],
            "application/vnd.jupyter.widget-view+json": {
              "version_major": 2,
              "version_minor": 0,
              "model_id": "9b23686fbf1444df8470e55cbd832386"
            }
          },
          "metadata": {}
        }
      ]
    },
    {
      "cell_type": "markdown",
      "source": [
        "## 3. Train It!\n"
      ],
      "metadata": {
        "id": "X82VHKZXlNoc"
      },
      "id": "X82VHKZXlNoc"
    },
    {
      "cell_type": "code",
      "source": [
        "train_graph_model(graph_model.value, dataset_class.value, dataset.value, IS_GPU_AVAILABLE)"
      ],
      "metadata": {
        "collapsed": true,
        "id": "35_3aCToDkBJ"
      },
      "id": "35_3aCToDkBJ",
      "execution_count": null,
      "outputs": []
    }
  ],
  "metadata": {
    "kernelspec": {
      "display_name": "Python 3",
      "name": "python3"
    },
    "language_info": {
      "codemirror_mode": {
        "name": "ipython",
        "version": 3
      },
      "file_extension": ".py",
      "mimetype": "text/x-python",
      "name": "python",
      "nbconvert_exporter": "python",
      "pygments_lexer": "ipython3",
      "version": "3.8.20"
    },
    "colab": {
      "provenance": [],
      "machine_shape": "hm",
      "gpuType": "T4",
      "include_colab_link": true
    },
    "widgets": {
      "application/vnd.jupyter.widget-state+json": {
        "50f95f5c1b1d4cc0bf2e36fc2d2fb031": {
          "model_module": "@jupyter-widgets/controls",
          "model_name": "DropdownModel",
          "model_module_version": "1.5.0",
          "state": {
            "_dom_classes": [],
            "_model_module": "@jupyter-widgets/controls",
            "_model_module_version": "1.5.0",
            "_model_name": "DropdownModel",
            "_options_labels": [
              "ACM",
              "BernNet",
              "FAGCN",
              "FSGCN",
              "GBKGNN",
              "APPNP",
              "H2GCN",
              "LinkX"
            ],
            "_view_count": null,
            "_view_module": "@jupyter-widgets/controls",
            "_view_module_version": "1.5.0",
            "_view_name": "DropdownView",
            "description": "Choose a graph model:",
            "description_tooltip": null,
            "disabled": false,
            "index": 7,
            "layout": "IPY_MODEL_e3378d46eb3b470ebf065cd51a70e568",
            "style": "IPY_MODEL_38e6e01b2bee4ac0ae03809cb42d137d"
          }
        },
        "e3378d46eb3b470ebf065cd51a70e568": {
          "model_module": "@jupyter-widgets/base",
          "model_name": "LayoutModel",
          "model_module_version": "1.2.0",
          "state": {
            "_model_module": "@jupyter-widgets/base",
            "_model_module_version": "1.2.0",
            "_model_name": "LayoutModel",
            "_view_count": null,
            "_view_module": "@jupyter-widgets/base",
            "_view_module_version": "1.2.0",
            "_view_name": "LayoutView",
            "align_content": null,
            "align_items": null,
            "align_self": null,
            "border": null,
            "bottom": null,
            "display": null,
            "flex": null,
            "flex_flow": null,
            "grid_area": null,
            "grid_auto_columns": null,
            "grid_auto_flow": null,
            "grid_auto_rows": null,
            "grid_column": null,
            "grid_gap": null,
            "grid_row": null,
            "grid_template_areas": null,
            "grid_template_columns": null,
            "grid_template_rows": null,
            "height": null,
            "justify_content": null,
            "justify_items": null,
            "left": null,
            "margin": null,
            "max_height": null,
            "max_width": null,
            "min_height": null,
            "min_width": null,
            "object_fit": null,
            "object_position": null,
            "order": null,
            "overflow": null,
            "overflow_x": null,
            "overflow_y": null,
            "padding": null,
            "right": null,
            "top": null,
            "visibility": null,
            "width": null
          }
        },
        "38e6e01b2bee4ac0ae03809cb42d137d": {
          "model_module": "@jupyter-widgets/controls",
          "model_name": "DescriptionStyleModel",
          "model_module_version": "1.5.0",
          "state": {
            "_model_module": "@jupyter-widgets/controls",
            "_model_module_version": "1.5.0",
            "_model_name": "DescriptionStyleModel",
            "_view_count": null,
            "_view_module": "@jupyter-widgets/base",
            "_view_module_version": "1.2.0",
            "_view_name": "StyleView",
            "description_width": "initial"
          }
        },
        "b10c56f5db094b69a427528180f270c3": {
          "model_module": "@jupyter-widgets/controls",
          "model_name": "DropdownModel",
          "model_module_version": "1.5.0",
          "state": {
            "_dom_classes": [],
            "_model_module": "@jupyter-widgets/controls",
            "_model_module_version": "1.5.0",
            "_model_name": "DropdownModel",
            "_options_labels": [
              "Critical Look",
              "Large Scale",
              "OpenGSL",
              "PathNet"
            ],
            "_view_count": null,
            "_view_module": "@jupyter-widgets/controls",
            "_view_module_version": "1.5.0",
            "_view_name": "DropdownView",
            "description": "Choose a dataset class:",
            "description_tooltip": null,
            "disabled": false,
            "index": 1,
            "layout": "IPY_MODEL_bb2bdd8c8a9d43bf940486a5c016079a",
            "style": "IPY_MODEL_fa01f5ec9855468e8e2033447b6f5500"
          }
        },
        "bb2bdd8c8a9d43bf940486a5c016079a": {
          "model_module": "@jupyter-widgets/base",
          "model_name": "LayoutModel",
          "model_module_version": "1.2.0",
          "state": {
            "_model_module": "@jupyter-widgets/base",
            "_model_module_version": "1.2.0",
            "_model_name": "LayoutModel",
            "_view_count": null,
            "_view_module": "@jupyter-widgets/base",
            "_view_module_version": "1.2.0",
            "_view_name": "LayoutView",
            "align_content": null,
            "align_items": null,
            "align_self": null,
            "border": null,
            "bottom": null,
            "display": null,
            "flex": null,
            "flex_flow": null,
            "grid_area": null,
            "grid_auto_columns": null,
            "grid_auto_flow": null,
            "grid_auto_rows": null,
            "grid_column": null,
            "grid_gap": null,
            "grid_row": null,
            "grid_template_areas": null,
            "grid_template_columns": null,
            "grid_template_rows": null,
            "height": null,
            "justify_content": null,
            "justify_items": null,
            "left": null,
            "margin": null,
            "max_height": null,
            "max_width": null,
            "min_height": null,
            "min_width": null,
            "object_fit": null,
            "object_position": null,
            "order": null,
            "overflow": null,
            "overflow_x": null,
            "overflow_y": null,
            "padding": null,
            "right": null,
            "top": null,
            "visibility": null,
            "width": null
          }
        },
        "fa01f5ec9855468e8e2033447b6f5500": {
          "model_module": "@jupyter-widgets/controls",
          "model_name": "DescriptionStyleModel",
          "model_module_version": "1.5.0",
          "state": {
            "_model_module": "@jupyter-widgets/controls",
            "_model_module_version": "1.5.0",
            "_model_name": "DescriptionStyleModel",
            "_view_count": null,
            "_view_module": "@jupyter-widgets/base",
            "_view_module_version": "1.2.0",
            "_view_name": "StyleView",
            "description_width": "initial"
          }
        },
        "9b23686fbf1444df8470e55cbd832386": {
          "model_module": "@jupyter-widgets/controls",
          "model_name": "DropdownModel",
          "model_module_version": "1.5.0",
          "state": {
            "_dom_classes": [],
            "_model_module": "@jupyter-widgets/controls",
            "_model_module_version": "1.5.0",
            "_model_name": "DropdownModel",
            "_options_labels": [
              "Arxiv-Year",
              "Chameleon",
              "Citeseer",
              "Cora",
              "Cornell",
              "Film",
              "Fb100",
              "Genius",
              "Ogbn-Arxiv",
              "Ogbn-Products",
              "Ogbn-Proteins",
              "Pokec",
              "Pubmed",
              "Snap-Patents",
              "Squirrel",
              "Texas",
              "Twitch-E",
              "Twitch-Gamer",
              "Wiki",
              "Wisconsin",
              "Yelp-Chi"
            ],
            "_view_count": null,
            "_view_module": "@jupyter-widgets/controls",
            "_view_module_version": "1.5.0",
            "_view_name": "DropdownView",
            "description": "Choose a dataset:",
            "description_tooltip": null,
            "disabled": false,
            "index": 0,
            "layout": "IPY_MODEL_e5f0f595350a4f5a9d6ecf1d4ce6aab4",
            "style": "IPY_MODEL_e06ed442ba0f419fb0f8dbadd7af51bf"
          }
        },
        "e5f0f595350a4f5a9d6ecf1d4ce6aab4": {
          "model_module": "@jupyter-widgets/base",
          "model_name": "LayoutModel",
          "model_module_version": "1.2.0",
          "state": {
            "_model_module": "@jupyter-widgets/base",
            "_model_module_version": "1.2.0",
            "_model_name": "LayoutModel",
            "_view_count": null,
            "_view_module": "@jupyter-widgets/base",
            "_view_module_version": "1.2.0",
            "_view_name": "LayoutView",
            "align_content": null,
            "align_items": null,
            "align_self": null,
            "border": null,
            "bottom": null,
            "display": null,
            "flex": null,
            "flex_flow": null,
            "grid_area": null,
            "grid_auto_columns": null,
            "grid_auto_flow": null,
            "grid_auto_rows": null,
            "grid_column": null,
            "grid_gap": null,
            "grid_row": null,
            "grid_template_areas": null,
            "grid_template_columns": null,
            "grid_template_rows": null,
            "height": null,
            "justify_content": null,
            "justify_items": null,
            "left": null,
            "margin": null,
            "max_height": null,
            "max_width": null,
            "min_height": null,
            "min_width": null,
            "object_fit": null,
            "object_position": null,
            "order": null,
            "overflow": null,
            "overflow_x": null,
            "overflow_y": null,
            "padding": null,
            "right": null,
            "top": null,
            "visibility": null,
            "width": null
          }
        },
        "e06ed442ba0f419fb0f8dbadd7af51bf": {
          "model_module": "@jupyter-widgets/controls",
          "model_name": "DescriptionStyleModel",
          "model_module_version": "1.5.0",
          "state": {
            "_model_module": "@jupyter-widgets/controls",
            "_model_module_version": "1.5.0",
            "_model_name": "DescriptionStyleModel",
            "_view_count": null,
            "_view_module": "@jupyter-widgets/base",
            "_view_module_version": "1.2.0",
            "_view_name": "StyleView",
            "description_width": "initial"
          }
        }
      }
    },
    "accelerator": "GPU"
  },
  "nbformat": 4,
  "nbformat_minor": 5
}
